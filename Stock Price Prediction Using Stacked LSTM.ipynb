{
 "cells": [
  {
   "cell_type": "markdown",
   "id": "b1f87ee7",
   "metadata": {},
   "source": [
    "#### IMPORTINMG LIBRARIES"
   ]
  },
  {
   "cell_type": "code",
   "execution_count": 1,
   "id": "2c2ecad1",
   "metadata": {},
   "outputs": [],
   "source": [
    "import pandas_datareader as pdr\n",
    "import pandas as pd\n",
    "import numpy as np\n",
    "import seaborn as sns\n",
    "import matplotlib.pyplot as plt"
   ]
  },
  {
   "cell_type": "markdown",
   "id": "928afd1a",
   "metadata": {},
   "source": [
    "#### LOADING DATA THROUGH TINGO API"
   ]
  },
  {
   "cell_type": "code",
   "execution_count": 2,
   "id": "412810ac",
   "metadata": {},
   "outputs": [],
   "source": [
    "df = pdr.get_data_tiingo(\"AAPL\",api_key=\"ef3d19916e14333377537aec1f3720c55247836c\")"
   ]
  },
  {
   "cell_type": "markdown",
   "id": "e7e88df0",
   "metadata": {},
   "source": [
    "#### CHECKING THE DATA"
   ]
  },
  {
   "cell_type": "code",
   "execution_count": 3,
   "id": "90b9be31",
   "metadata": {},
   "outputs": [
    {
     "data": {
      "text/html": [
       "<div>\n",
       "<style scoped>\n",
       "    .dataframe tbody tr th:only-of-type {\n",
       "        vertical-align: middle;\n",
       "    }\n",
       "\n",
       "    .dataframe tbody tr th {\n",
       "        vertical-align: top;\n",
       "    }\n",
       "\n",
       "    .dataframe thead th {\n",
       "        text-align: right;\n",
       "    }\n",
       "</style>\n",
       "<table border=\"1\" class=\"dataframe\">\n",
       "  <thead>\n",
       "    <tr style=\"text-align: right;\">\n",
       "      <th></th>\n",
       "      <th></th>\n",
       "      <th>close</th>\n",
       "      <th>high</th>\n",
       "      <th>low</th>\n",
       "      <th>open</th>\n",
       "      <th>volume</th>\n",
       "      <th>adjClose</th>\n",
       "      <th>adjHigh</th>\n",
       "      <th>adjLow</th>\n",
       "      <th>adjOpen</th>\n",
       "      <th>adjVolume</th>\n",
       "      <th>divCash</th>\n",
       "      <th>splitFactor</th>\n",
       "    </tr>\n",
       "    <tr>\n",
       "      <th>symbol</th>\n",
       "      <th>date</th>\n",
       "      <th></th>\n",
       "      <th></th>\n",
       "      <th></th>\n",
       "      <th></th>\n",
       "      <th></th>\n",
       "      <th></th>\n",
       "      <th></th>\n",
       "      <th></th>\n",
       "      <th></th>\n",
       "      <th></th>\n",
       "      <th></th>\n",
       "      <th></th>\n",
       "    </tr>\n",
       "  </thead>\n",
       "  <tbody>\n",
       "    <tr>\n",
       "      <th rowspan=\"5\" valign=\"top\">AAPL</th>\n",
       "      <th>2016-08-22 00:00:00+00:00</th>\n",
       "      <td>108.51</td>\n",
       "      <td>109.10</td>\n",
       "      <td>107.85</td>\n",
       "      <td>108.860</td>\n",
       "      <td>25820230</td>\n",
       "      <td>25.436673</td>\n",
       "      <td>25.574980</td>\n",
       "      <td>25.281958</td>\n",
       "      <td>25.518720</td>\n",
       "      <td>103280920</td>\n",
       "      <td>0.0</td>\n",
       "      <td>1.0</td>\n",
       "    </tr>\n",
       "    <tr>\n",
       "      <th>2016-08-23 00:00:00+00:00</th>\n",
       "      <td>108.85</td>\n",
       "      <td>109.32</td>\n",
       "      <td>108.53</td>\n",
       "      <td>108.590</td>\n",
       "      <td>21257669</td>\n",
       "      <td>25.516376</td>\n",
       "      <td>25.626552</td>\n",
       "      <td>25.441362</td>\n",
       "      <td>25.455427</td>\n",
       "      <td>85030676</td>\n",
       "      <td>0.0</td>\n",
       "      <td>1.0</td>\n",
       "    </tr>\n",
       "    <tr>\n",
       "      <th>2016-08-24 00:00:00+00:00</th>\n",
       "      <td>108.03</td>\n",
       "      <td>108.75</td>\n",
       "      <td>107.68</td>\n",
       "      <td>108.565</td>\n",
       "      <td>23675081</td>\n",
       "      <td>25.324153</td>\n",
       "      <td>25.492934</td>\n",
       "      <td>25.242107</td>\n",
       "      <td>25.449566</td>\n",
       "      <td>94700324</td>\n",
       "      <td>0.0</td>\n",
       "      <td>1.0</td>\n",
       "    </tr>\n",
       "    <tr>\n",
       "      <th>2016-08-25 00:00:00+00:00</th>\n",
       "      <td>107.57</td>\n",
       "      <td>107.88</td>\n",
       "      <td>106.68</td>\n",
       "      <td>107.390</td>\n",
       "      <td>25086248</td>\n",
       "      <td>25.216321</td>\n",
       "      <td>25.288990</td>\n",
       "      <td>25.007689</td>\n",
       "      <td>25.174126</td>\n",
       "      <td>100344992</td>\n",
       "      <td>0.0</td>\n",
       "      <td>1.0</td>\n",
       "    </tr>\n",
       "    <tr>\n",
       "      <th>2016-08-26 00:00:00+00:00</th>\n",
       "      <td>106.94</td>\n",
       "      <td>107.95</td>\n",
       "      <td>106.31</td>\n",
       "      <td>107.410</td>\n",
       "      <td>27766291</td>\n",
       "      <td>25.068638</td>\n",
       "      <td>25.305400</td>\n",
       "      <td>24.920954</td>\n",
       "      <td>25.178814</td>\n",
       "      <td>111065164</td>\n",
       "      <td>0.0</td>\n",
       "      <td>1.0</td>\n",
       "    </tr>\n",
       "  </tbody>\n",
       "</table>\n",
       "</div>"
      ],
      "text/plain": [
       "                                   close    high     low     open    volume  \\\n",
       "symbol date                                                                   \n",
       "AAPL   2016-08-22 00:00:00+00:00  108.51  109.10  107.85  108.860  25820230   \n",
       "       2016-08-23 00:00:00+00:00  108.85  109.32  108.53  108.590  21257669   \n",
       "       2016-08-24 00:00:00+00:00  108.03  108.75  107.68  108.565  23675081   \n",
       "       2016-08-25 00:00:00+00:00  107.57  107.88  106.68  107.390  25086248   \n",
       "       2016-08-26 00:00:00+00:00  106.94  107.95  106.31  107.410  27766291   \n",
       "\n",
       "                                   adjClose    adjHigh     adjLow    adjOpen  \\\n",
       "symbol date                                                                    \n",
       "AAPL   2016-08-22 00:00:00+00:00  25.436673  25.574980  25.281958  25.518720   \n",
       "       2016-08-23 00:00:00+00:00  25.516376  25.626552  25.441362  25.455427   \n",
       "       2016-08-24 00:00:00+00:00  25.324153  25.492934  25.242107  25.449566   \n",
       "       2016-08-25 00:00:00+00:00  25.216321  25.288990  25.007689  25.174126   \n",
       "       2016-08-26 00:00:00+00:00  25.068638  25.305400  24.920954  25.178814   \n",
       "\n",
       "                                  adjVolume  divCash  splitFactor  \n",
       "symbol date                                                        \n",
       "AAPL   2016-08-22 00:00:00+00:00  103280920      0.0          1.0  \n",
       "       2016-08-23 00:00:00+00:00   85030676      0.0          1.0  \n",
       "       2016-08-24 00:00:00+00:00   94700324      0.0          1.0  \n",
       "       2016-08-25 00:00:00+00:00  100344992      0.0          1.0  \n",
       "       2016-08-26 00:00:00+00:00  111065164      0.0          1.0  "
      ]
     },
     "execution_count": 3,
     "metadata": {},
     "output_type": "execute_result"
    }
   ],
   "source": [
    "df.head()"
   ]
  },
  {
   "cell_type": "code",
   "execution_count": 4,
   "id": "43f45aef",
   "metadata": {},
   "outputs": [],
   "source": [
    "df.to_csv(\"APPL.csv\")"
   ]
  },
  {
   "cell_type": "code",
   "execution_count": 5,
   "id": "2f43b8e5",
   "metadata": {},
   "outputs": [],
   "source": [
    "df = pd.read_csv(\"APPL.csv\")"
   ]
  },
  {
   "cell_type": "code",
   "execution_count": 6,
   "id": "057d04cf",
   "metadata": {},
   "outputs": [
    {
     "data": {
      "text/html": [
       "<div>\n",
       "<style scoped>\n",
       "    .dataframe tbody tr th:only-of-type {\n",
       "        vertical-align: middle;\n",
       "    }\n",
       "\n",
       "    .dataframe tbody tr th {\n",
       "        vertical-align: top;\n",
       "    }\n",
       "\n",
       "    .dataframe thead th {\n",
       "        text-align: right;\n",
       "    }\n",
       "</style>\n",
       "<table border=\"1\" class=\"dataframe\">\n",
       "  <thead>\n",
       "    <tr style=\"text-align: right;\">\n",
       "      <th></th>\n",
       "      <th>symbol</th>\n",
       "      <th>date</th>\n",
       "      <th>close</th>\n",
       "      <th>high</th>\n",
       "      <th>low</th>\n",
       "      <th>open</th>\n",
       "      <th>volume</th>\n",
       "      <th>adjClose</th>\n",
       "      <th>adjHigh</th>\n",
       "      <th>adjLow</th>\n",
       "      <th>adjOpen</th>\n",
       "      <th>adjVolume</th>\n",
       "      <th>divCash</th>\n",
       "      <th>splitFactor</th>\n",
       "    </tr>\n",
       "  </thead>\n",
       "  <tbody>\n",
       "    <tr>\n",
       "      <th>0</th>\n",
       "      <td>AAPL</td>\n",
       "      <td>2016-08-22 00:00:00+00:00</td>\n",
       "      <td>108.51</td>\n",
       "      <td>109.10</td>\n",
       "      <td>107.85</td>\n",
       "      <td>108.86</td>\n",
       "      <td>25820230</td>\n",
       "      <td>25.436673</td>\n",
       "      <td>25.574980</td>\n",
       "      <td>25.281958</td>\n",
       "      <td>25.518720</td>\n",
       "      <td>103280920</td>\n",
       "      <td>0.0</td>\n",
       "      <td>1.0</td>\n",
       "    </tr>\n",
       "    <tr>\n",
       "      <th>1</th>\n",
       "      <td>AAPL</td>\n",
       "      <td>2016-08-23 00:00:00+00:00</td>\n",
       "      <td>108.85</td>\n",
       "      <td>109.32</td>\n",
       "      <td>108.53</td>\n",
       "      <td>108.59</td>\n",
       "      <td>21257669</td>\n",
       "      <td>25.516376</td>\n",
       "      <td>25.626552</td>\n",
       "      <td>25.441362</td>\n",
       "      <td>25.455427</td>\n",
       "      <td>85030676</td>\n",
       "      <td>0.0</td>\n",
       "      <td>1.0</td>\n",
       "    </tr>\n",
       "  </tbody>\n",
       "</table>\n",
       "</div>"
      ],
      "text/plain": [
       "  symbol                       date   close    high     low    open    volume  \\\n",
       "0   AAPL  2016-08-22 00:00:00+00:00  108.51  109.10  107.85  108.86  25820230   \n",
       "1   AAPL  2016-08-23 00:00:00+00:00  108.85  109.32  108.53  108.59  21257669   \n",
       "\n",
       "    adjClose    adjHigh     adjLow    adjOpen  adjVolume  divCash  splitFactor  \n",
       "0  25.436673  25.574980  25.281958  25.518720  103280920      0.0          1.0  \n",
       "1  25.516376  25.626552  25.441362  25.455427   85030676      0.0          1.0  "
      ]
     },
     "execution_count": 6,
     "metadata": {},
     "output_type": "execute_result"
    }
   ],
   "source": [
    "df.head(2)"
   ]
  },
  {
   "cell_type": "markdown",
   "id": "cc8fe4f3",
   "metadata": {},
   "source": [
    "* WE WILL BE POREDICTING THE CLOSE PRICE OF THE STOCK"
   ]
  },
  {
   "cell_type": "code",
   "execution_count": 7,
   "id": "ad75b917",
   "metadata": {},
   "outputs": [],
   "source": [
    "df1 = df['close']"
   ]
  },
  {
   "cell_type": "code",
   "execution_count": 8,
   "id": "4bb688cf",
   "metadata": {},
   "outputs": [
    {
     "data": {
      "text/plain": [
       "0    108.51\n",
       "1    108.85\n",
       "2    108.03\n",
       "3    107.57\n",
       "4    106.94\n",
       "Name: close, dtype: float64"
      ]
     },
     "execution_count": 8,
     "metadata": {},
     "output_type": "execute_result"
    }
   ],
   "source": [
    "df1.head()"
   ]
  },
  {
   "cell_type": "code",
   "execution_count": 9,
   "id": "a42e38e3",
   "metadata": {},
   "outputs": [
    {
     "data": {
      "image/png": "[encoded data removed]",
      "text/plain": [
       "<Figure size 432x288 with 1 Axes>"
      ]
     },
     "metadata": {},
     "output_type": "display_data"
    }
   ],
   "source": [
    "sns.set_style(\"dark\")\n",
    "plt.plot(df1)\n",
    "plt.show()"
   ]
  },
  {
   "cell_type": "markdown",
   "id": "84c53a27",
   "metadata": {},
   "source": [
    "#### LSTM are sensitive to the scale of the data hence we must scale the values (MINMAX scaler)"
   ]
  },
  {
   "cell_type": "code",
   "execution_count": 10,
   "id": "34713c6e",
   "metadata": {},
   "outputs": [],
   "source": [
    "from sklearn.preprocessing import MinMaxScaler"
   ]
  },
  {
   "cell_type": "code",
   "execution_count": 11,
   "id": "d7deebca",
   "metadata": {},
   "outputs": [],
   "source": [
    "scaler = MinMaxScaler(feature_range=(0,1))"
   ]
  },
  {
   "cell_type": "code",
   "execution_count": 12,
   "id": "fdfd9a2f",
   "metadata": {},
   "outputs": [],
   "source": [
    "df1 = scaler.fit_transform(np.array(df1).reshape(-1,1))"
   ]
  },
  {
   "cell_type": "code",
   "execution_count": 13,
   "id": "60f75805",
   "metadata": {},
   "outputs": [
    {
     "data": {
      "text/plain": [
       "array([[0.0133512 ],\n",
       "       [0.01419496],\n",
       "       [0.01216002],\n",
       "       ...,\n",
       "       [0.10728112],\n",
       "       [0.10812488],\n",
       "       [0.11182251]])"
      ]
     },
     "execution_count": 13,
     "metadata": {},
     "output_type": "execute_result"
    }
   ],
   "source": [
    "df1"
   ]
  },
  {
   "cell_type": "code",
   "execution_count": 14,
   "id": "449461f8",
   "metadata": {},
   "outputs": [
    {
     "data": {
      "text/plain": [
       "(1259, 1)"
      ]
     },
     "execution_count": 14,
     "metadata": {},
     "output_type": "execute_result"
    }
   ],
   "source": [
    "df1.shape"
   ]
  },
  {
   "cell_type": "markdown",
   "id": "a1acf62e",
   "metadata": {},
   "source": [
    "#### TRAIN TEST SPLIT"
   ]
  },
  {
   "cell_type": "markdown",
   "id": "4cd8f5bf",
   "metadata": {},
   "source": [
    "* AS THIS IS A TIMESERIES PROBLEM STATEMENT WE WILL SPLIT THE DATA IN A DIFFREENT MANNER"
   ]
  },
  {
   "cell_type": "code",
   "execution_count": 15,
   "id": "f13b48ec",
   "metadata": {},
   "outputs": [],
   "source": [
    "train_size = int(len(df1)*0.65)\n",
    "test_size = len(df1)-train_size\n",
    "\n",
    "train_data,test_data = df1[:train_size,:1],df1[train_size:,:1]"
   ]
  },
  {
   "cell_type": "code",
   "execution_count": 16,
   "id": "0ddeff92",
   "metadata": {},
   "outputs": [
    {
     "data": {
      "text/plain": [
       "818"
      ]
     },
     "execution_count": 16,
     "metadata": {},
     "output_type": "execute_result"
    }
   ],
   "source": [
    "len(train_data)"
   ]
  },
  {
   "cell_type": "code",
   "execution_count": 17,
   "id": "63df2a27",
   "metadata": {},
   "outputs": [
    {
     "data": {
      "text/plain": [
       "441"
      ]
     },
     "execution_count": 17,
     "metadata": {},
     "output_type": "execute_result"
    }
   ],
   "source": [
    "len(test_data)"
   ]
  },
  {
   "cell_type": "markdown",
   "id": "5caa8a93",
   "metadata": {},
   "source": [
    "#### CONVERT AN ARRAY MATRIX TO A DENSE MATRIX USING TIMESTEPS"
   ]
  },
  {
   "cell_type": "code",
   "execution_count": 18,
   "id": "adf0a98d",
   "metadata": {},
   "outputs": [],
   "source": [
    "def create_dataset(dataset, time_step=1):\n",
    "\tdataX, dataY = [], []\n",
    "\tfor i in range(len(dataset)-time_step-1):\n",
    "\t\ta = dataset[i:(i+time_step), 0]   \n",
    "\t\tdataX.append(a)\n",
    "\t\tdataY.append(dataset[i + time_step, 0])\n",
    "\treturn np.array(dataX), np.array(dataY)"
   ]
  },
  {
   "cell_type": "code",
   "execution_count": 19,
   "id": "55b82bf0",
   "metadata": {},
   "outputs": [],
   "source": [
    "time_step = 100\n",
    "X_train, y_train = create_dataset(train_data, time_step)\n",
    "X_test, ytest = create_dataset(test_data, time_step)"
   ]
  },
  {
   "cell_type": "code",
   "execution_count": 20,
   "id": "dd426e7b",
   "metadata": {},
   "outputs": [],
   "source": [
    "# reshape input to be [samples, time steps, features] which is required for LSTM\n",
    "X_train =X_train.reshape(X_train.shape[0],X_train.shape[1] , 1)\n",
    "X_test = X_test.reshape(X_test.shape[0],X_test.shape[1] , 1)"
   ]
  },
  {
   "cell_type": "markdown",
   "id": "291cff0d",
   "metadata": {},
   "source": [
    "#### MODELLING USING STACKED LSTM"
   ]
  },
  {
   "cell_type": "code",
   "execution_count": 21,
   "id": "36abea0b",
   "metadata": {},
   "outputs": [],
   "source": [
    "# Importing Libraries\n",
    "import tensorflow as tf\n",
    "from tensorflow.keras.models import Sequential\n",
    "from tensorflow.keras.layers import Dense\n",
    "from tensorflow.keras.layers import LSTM\n"
   ]
  },
  {
   "cell_type": "code",
   "execution_count": 22,
   "id": "f8d04a91",
   "metadata": {},
   "outputs": [
    {
     "name": "stdout",
     "output_type": "stream",
     "text": [
      "2.0.0\n"
     ]
    }
   ],
   "source": [
    "print(tf.__version__)"
   ]
  },
  {
   "cell_type": "code",
   "execution_count": 23,
   "id": "7ac08a59",
   "metadata": {},
   "outputs": [
    {
     "name": "stdout",
     "output_type": "stream",
     "text": [
      "True\n",
      "True\n"
     ]
    }
   ],
   "source": [
    "print(tf.test.is_built_with_cuda())\n",
    "print(tf.test.is_gpu_available())"
   ]
  },
  {
   "cell_type": "code",
   "execution_count": 24,
   "id": "d0a71cd8",
   "metadata": {},
   "outputs": [],
   "source": [
    "model = Sequential()\n",
    "model.add(LSTM(50,return_sequences=True,input_shape=(100,1)))\n",
    "model.add(LSTM(50,return_sequences=True))\n",
    "model.add(LSTM(50))\n",
    "model.add(Dense(1,activation='sigmoid'))\n",
    "model.compile(loss='mean_squared_error',optimizer='adam')"
   ]
  },
  {
   "cell_type": "code",
   "execution_count": 25,
   "id": "674bf8b3",
   "metadata": {},
   "outputs": [
    {
     "name": "stdout",
     "output_type": "stream",
     "text": [
      "Model: \"sequential\"\n",
      "_________________________________________________________________\n",
      "Layer (type)                 Output Shape              Param #   \n",
      "=================================================================\n",
      "lstm (LSTM)                  (None, 100, 50)           10400     \n",
      "_________________________________________________________________\n",
      "lstm_1 (LSTM)                (None, 100, 50)           20200     \n",
      "_________________________________________________________________\n",
      "lstm_2 (LSTM)                (None, 50)                20200     \n",
      "_________________________________________________________________\n",
      "dense (Dense)                (None, 1)                 51        \n",
      "=================================================================\n",
      "Total params: 50,851\n",
      "Trainable params: 50,851\n",
      "Non-trainable params: 0\n",
      "_________________________________________________________________\n"
     ]
    }
   ],
   "source": [
    "model.summary()"
   ]
  },
  {
   "cell_type": "code",
   "execution_count": 26,
   "id": "8ea30365",
   "metadata": {
    "scrolled": true
   },
   "outputs": [
    {
     "name": "stdout",
     "output_type": "stream",
     "text": [
      "Train on 717 samples, validate on 340 samples\n",
      "Epoch 1/100\n",
      "717/717 [==============================] - 7s 9ms/sample - loss: 0.0553 - val_loss: 0.1036\n",
      "Epoch 2/100\n",
      "717/717 [==============================] - 0s 412us/sample - loss: 0.0119 - val_loss: 0.0763\n",
      "Epoch 3/100\n",
      "717/717 [==============================] - 0s 395us/sample - loss: 0.0061 - val_loss: 0.0797\n",
      "Epoch 4/100\n",
      "717/717 [==============================] - 0s 394us/sample - loss: 0.0055 - val_loss: 0.0758\n",
      "Epoch 5/100\n",
      "717/717 [==============================] - 0s 392us/sample - loss: 0.0051 - val_loss: 0.0736\n",
      "Epoch 6/100\n",
      "717/717 [==============================] - 0s 389us/sample - loss: 0.0047 - val_loss: 0.0688\n",
      "Epoch 7/100\n",
      "717/717 [==============================] - 0s 390us/sample - loss: 0.0041 - val_loss: 0.0605\n",
      "Epoch 8/100\n",
      "717/717 [==============================] - 0s 387us/sample - loss: 0.0032 - val_loss: 0.0446\n",
      "Epoch 9/100\n",
      "717/717 [==============================] - 0s 389us/sample - loss: 0.0020 - val_loss: 0.0382\n",
      "Epoch 10/100\n",
      "717/717 [==============================] - 0s 392us/sample - loss: 0.0011 - val_loss: 0.0345\n",
      "Epoch 11/100\n",
      "717/717 [==============================] - 0s 394us/sample - loss: 0.0012 - val_loss: 0.0346\n",
      "Epoch 12/100\n",
      "717/717 [==============================] - 0s 392us/sample - loss: 0.0011 - val_loss: 0.0310\n",
      "Epoch 13/100\n",
      "717/717 [==============================] - 0s 399us/sample - loss: 7.4506e-04 - val_loss: 0.0282\n",
      "Epoch 14/100\n",
      "717/717 [==============================] - 0s 398us/sample - loss: 7.2123e-04 - val_loss: 0.0269\n",
      "Epoch 15/100\n",
      "717/717 [==============================] - 0s 400us/sample - loss: 6.2120e-04 - val_loss: 0.0270\n",
      "Epoch 16/100\n",
      "717/717 [==============================] - 0s 402us/sample - loss: 8.9365e-04 - val_loss: 0.0274\n",
      "Epoch 17/100\n",
      "717/717 [==============================] - 0s 416us/sample - loss: 8.1988e-04 - val_loss: 0.0244\n",
      "Epoch 18/100\n",
      "717/717 [==============================] - 0s 408us/sample - loss: 5.3518e-04 - val_loss: 0.0242\n",
      "Epoch 19/100\n",
      "717/717 [==============================] - 0s 413us/sample - loss: 4.9479e-04 - val_loss: 0.0240\n",
      "Epoch 20/100\n",
      "717/717 [==============================] - 0s 405us/sample - loss: 5.5491e-04 - val_loss: 0.0240\n",
      "Epoch 21/100\n",
      "717/717 [==============================] - 0s 417us/sample - loss: 5.4032e-04 - val_loss: 0.0216\n",
      "Epoch 22/100\n",
      "717/717 [==============================] - 0s 405us/sample - loss: 4.4645e-04 - val_loss: 0.0216\n",
      "Epoch 23/100\n",
      "717/717 [==============================] - 0s 406us/sample - loss: 4.4604e-04 - val_loss: 0.0209\n",
      "Epoch 24/100\n",
      "717/717 [==============================] - 0s 415us/sample - loss: 4.1746e-04 - val_loss: 0.0199\n",
      "Epoch 25/100\n",
      "717/717 [==============================] - 0s 405us/sample - loss: 3.9517e-04 - val_loss: 0.0196\n",
      "Epoch 26/100\n",
      "717/717 [==============================] - 0s 413us/sample - loss: 3.7991e-04 - val_loss: 0.0188\n",
      "Epoch 27/100\n",
      "717/717 [==============================] - 0s 406us/sample - loss: 3.8872e-04 - val_loss: 0.0181\n",
      "Epoch 28/100\n",
      "717/717 [==============================] - 0s 405us/sample - loss: 3.7882e-04 - val_loss: 0.0175\n",
      "Epoch 29/100\n",
      "717/717 [==============================] - 0s 405us/sample - loss: 3.4873e-04 - val_loss: 0.0171\n",
      "Epoch 30/100\n",
      "717/717 [==============================] - 0s 403us/sample - loss: 3.3968e-04 - val_loss: 0.0166\n",
      "Epoch 31/100\n",
      "717/717 [==============================] - 0s 419us/sample - loss: 4.2401e-04 - val_loss: 0.0164\n",
      "Epoch 32/100\n",
      "717/717 [==============================] - 0s 392us/sample - loss: 3.6439e-04 - val_loss: 0.0164\n",
      "Epoch 33/100\n",
      "717/717 [==============================] - 0s 406us/sample - loss: 3.4702e-04 - val_loss: 0.0160\n",
      "Epoch 34/100\n",
      "717/717 [==============================] - 0s 395us/sample - loss: 3.4797e-04 - val_loss: 0.0157\n",
      "Epoch 35/100\n",
      "717/717 [==============================] - 0s 387us/sample - loss: 3.5421e-04 - val_loss: 0.0156\n",
      "Epoch 36/100\n",
      "717/717 [==============================] - 0s 389us/sample - loss: 3.3364e-04 - val_loss: 0.0153\n",
      "Epoch 37/100\n",
      "717/717 [==============================] - 0s 389us/sample - loss: 3.2014e-04 - val_loss: 0.0153\n",
      "Epoch 38/100\n",
      "717/717 [==============================] - 0s 387us/sample - loss: 2.9974e-04 - val_loss: 0.0151\n",
      "Epoch 39/100\n",
      "717/717 [==============================] - 0s 395us/sample - loss: 2.8640e-04 - val_loss: 0.0151\n",
      "Epoch 40/100\n",
      "717/717 [==============================] - 0s 389us/sample - loss: 3.0865e-04 - val_loss: 0.0147\n",
      "Epoch 41/100\n",
      "717/717 [==============================] - 0s 392us/sample - loss: 3.9016e-04 - val_loss: 0.0151\n",
      "Epoch 42/100\n",
      "717/717 [==============================] - 0s 391us/sample - loss: 4.7954e-04 - val_loss: 0.0149\n",
      "Epoch 43/100\n",
      "717/717 [==============================] - 0s 396us/sample - loss: 3.2293e-04 - val_loss: 0.0147\n",
      "Epoch 44/100\n",
      "717/717 [==============================] - 0s 395us/sample - loss: 2.9323e-04 - val_loss: 0.0146\n",
      "Epoch 45/100\n",
      "717/717 [==============================] - 0s 398us/sample - loss: 2.6918e-04 - val_loss: 0.0146\n",
      "Epoch 46/100\n",
      "717/717 [==============================] - 0s 403us/sample - loss: 2.7326e-04 - val_loss: 0.0146\n",
      "Epoch 47/100\n",
      "717/717 [==============================] - 0s 394us/sample - loss: 2.8146e-04 - val_loss: 0.0142\n",
      "Epoch 48/100\n",
      "717/717 [==============================] - 0s 389us/sample - loss: 3.0260e-04 - val_loss: 0.0143\n",
      "Epoch 49/100\n",
      "717/717 [==============================] - 0s 402us/sample - loss: 2.6699e-04 - val_loss: 0.0142\n",
      "Epoch 50/100\n",
      "717/717 [==============================] - 0s 407us/sample - loss: 2.7197e-04 - val_loss: 0.0140\n",
      "Epoch 51/100\n",
      "717/717 [==============================] - 0s 402us/sample - loss: 3.4749e-04 - val_loss: 0.0143\n",
      "Epoch 52/100\n",
      "717/717 [==============================] - 0s 395us/sample - loss: 3.4630e-04 - val_loss: 0.0143\n",
      "Epoch 53/100\n",
      "717/717 [==============================] - 0s 392us/sample - loss: 2.7603e-04 - val_loss: 0.0142\n",
      "Epoch 54/100\n",
      "717/717 [==============================] - 0s 387us/sample - loss: 2.9081e-04 - val_loss: 0.0141\n",
      "Epoch 55/100\n",
      "717/717 [==============================] - 0s 391us/sample - loss: 2.5554e-04 - val_loss: 0.0141\n",
      "Epoch 56/100\n",
      "717/717 [==============================] - 0s 388us/sample - loss: 2.5200e-04 - val_loss: 0.0140\n",
      "Epoch 57/100\n",
      "717/717 [==============================] - 0s 385us/sample - loss: 2.7806e-04 - val_loss: 0.0139\n",
      "Epoch 58/100\n",
      "717/717 [==============================] - 0s 388us/sample - loss: 3.0418e-04 - val_loss: 0.0137\n",
      "Epoch 59/100\n",
      "717/717 [==============================] - 0s 389us/sample - loss: 2.4139e-04 - val_loss: 0.0137\n",
      "Epoch 60/100\n",
      "717/717 [==============================] - 0s 392us/sample - loss: 2.3831e-04 - val_loss: 0.0136\n",
      "Epoch 61/100\n",
      "717/717 [==============================] - 0s 388us/sample - loss: 2.3820e-04 - val_loss: 0.0138\n",
      "Epoch 62/100\n",
      "717/717 [==============================] - 0s 391us/sample - loss: 2.3013e-04 - val_loss: 0.0134\n",
      "Epoch 63/100\n",
      "717/717 [==============================] - 0s 391us/sample - loss: 2.3501e-04 - val_loss: 0.0133\n",
      "Epoch 64/100\n",
      "717/717 [==============================] - 0s 387us/sample - loss: 3.2644e-04 - val_loss: 0.0133\n",
      "Epoch 65/100\n",
      "717/717 [==============================] - 0s 389us/sample - loss: 3.4086e-04 - val_loss: 0.0137\n",
      "Epoch 66/100\n",
      "717/717 [==============================] - 0s 388us/sample - loss: 3.2134e-04 - val_loss: 0.0134\n",
      "Epoch 67/100\n",
      "717/717 [==============================] - 0s 389us/sample - loss: 2.7216e-04 - val_loss: 0.0134\n",
      "Epoch 68/100\n",
      "717/717 [==============================] - 0s 389us/sample - loss: 2.7522e-04 - val_loss: 0.0135\n",
      "Epoch 69/100\n",
      "717/717 [==============================] - 0s 391us/sample - loss: 2.9168e-04 - val_loss: 0.0132\n",
      "Epoch 70/100\n",
      "717/717 [==============================] - 0s 390us/sample - loss: 2.2333e-04 - val_loss: 0.0132\n",
      "Epoch 71/100\n",
      "717/717 [==============================] - 0s 387us/sample - loss: 2.2602e-04 - val_loss: 0.0134\n",
      "Epoch 72/100\n",
      "717/717 [==============================] - 0s 387us/sample - loss: 2.2168e-04 - val_loss: 0.0131\n",
      "Epoch 73/100\n",
      "717/717 [==============================] - 0s 388us/sample - loss: 2.1473e-04 - val_loss: 0.0131\n",
      "Epoch 74/100\n",
      "717/717 [==============================] - 0s 391us/sample - loss: 2.0549e-04 - val_loss: 0.0131\n",
      "Epoch 75/100\n",
      "717/717 [==============================] - 0s 391us/sample - loss: 2.4066e-04 - val_loss: 0.0136\n",
      "Epoch 76/100\n",
      "717/717 [==============================] - 0s 390us/sample - loss: 2.6702e-04 - val_loss: 0.0131\n",
      "Epoch 77/100\n",
      "717/717 [==============================] - 0s 391us/sample - loss: 2.0831e-04 - val_loss: 0.0128\n",
      "Epoch 78/100\n",
      "717/717 [==============================] - 0s 396us/sample - loss: 2.1099e-04 - val_loss: 0.0129\n",
      "Epoch 79/100\n",
      "717/717 [==============================] - 0s 394us/sample - loss: 2.1347e-04 - val_loss: 0.0127\n",
      "Epoch 80/100\n",
      "717/717 [==============================] - 0s 391us/sample - loss: 2.2808e-04 - val_loss: 0.0129\n",
      "Epoch 81/100\n",
      "717/717 [==============================] - 0s 394us/sample - loss: 2.4885e-04 - val_loss: 0.0128\n",
      "Epoch 82/100\n",
      "717/717 [==============================] - 0s 408us/sample - loss: 2.6596e-04 - val_loss: 0.0127\n",
      "Epoch 83/100\n",
      "717/717 [==============================] - 0s 392us/sample - loss: 2.0812e-04 - val_loss: 0.0130\n",
      "Epoch 84/100\n",
      "717/717 [==============================] - 0s 395us/sample - loss: 2.4078e-04 - val_loss: 0.0128\n",
      "Epoch 85/100\n",
      "717/717 [==============================] - 0s 387us/sample - loss: 2.1840e-04 - val_loss: 0.0128\n",
      "Epoch 86/100\n",
      "717/717 [==============================] - 0s 389us/sample - loss: 2.2112e-04 - val_loss: 0.0128\n",
      "Epoch 87/100\n",
      "717/717 [==============================] - 0s 387us/sample - loss: 2.2849e-04 - val_loss: 0.0129\n",
      "Epoch 88/100\n",
      "717/717 [==============================] - 0s 396us/sample - loss: 2.1862e-04 - val_loss: 0.0125\n",
      "Epoch 89/100\n",
      "717/717 [==============================] - 0s 391us/sample - loss: 2.0440e-04 - val_loss: 0.0129\n",
      "Epoch 90/100\n",
      "717/717 [==============================] - 0s 395us/sample - loss: 1.9933e-04 - val_loss: 0.0123\n",
      "Epoch 91/100\n",
      "717/717 [==============================] - 0s 394us/sample - loss: 2.4130e-04 - val_loss: 0.0122\n",
      "Epoch 92/100\n",
      "717/717 [==============================] - 0s 387us/sample - loss: 2.6677e-04 - val_loss: 0.0123\n",
      "Epoch 93/100\n",
      "717/717 [==============================] - 0s 389us/sample - loss: 1.8878e-04 - val_loss: 0.0123\n",
      "Epoch 94/100\n",
      "717/717 [==============================] - 0s 391us/sample - loss: 2.0220e-04 - val_loss: 0.0120\n",
      "Epoch 95/100\n",
      "717/717 [==============================] - 0s 391us/sample - loss: 2.2425e-04 - val_loss: 0.0123\n",
      "Epoch 96/100\n",
      "717/717 [==============================] - 0s 396us/sample - loss: 2.1039e-04 - val_loss: 0.0124\n",
      "Epoch 97/100\n",
      "717/717 [==============================] - 0s 395us/sample - loss: 1.9044e-04 - val_loss: 0.0123\n",
      "Epoch 98/100\n",
      "717/717 [==============================] - 0s 398us/sample - loss: 1.7937e-04 - val_loss: 0.0122\n",
      "Epoch 99/100\n",
      "717/717 [==============================] - 0s 392us/sample - loss: 1.6831e-04 - val_loss: 0.0122\n",
      "Epoch 100/100\n",
      "717/717 [==============================] - 0s 394us/sample - loss: 1.9291e-04 - val_loss: 0.0123\n"
     ]
    },
    {
     "data": {
      "text/plain": [
       "<tensorflow.python.keras.callbacks.History at 0x2837c5ffe80>"
      ]
     },
     "execution_count": 26,
     "metadata": {},
     "output_type": "execute_result"
    }
   ],
   "source": [
    "model.fit(X_train,y_train,validation_data=(X_test,ytest),epochs=100,batch_size=64,verbose=1)"
   ]
  },
  {
   "cell_type": "markdown",
   "id": "a9c183a0",
   "metadata": {},
   "source": [
    "##### PREDICTION AND PERFORMANCE METRICS"
   ]
  },
  {
   "cell_type": "code",
   "execution_count": 27,
   "id": "4f02f89a",
   "metadata": {},
   "outputs": [],
   "source": [
    "train_prediction = model.predict(X_train)\n",
    "test_prediction = model.predict(X_test)"
   ]
  },
  {
   "cell_type": "code",
   "execution_count": 28,
   "id": "31aa18f3",
   "metadata": {},
   "outputs": [
    {
     "name": "stdout",
     "output_type": "stream",
     "text": [
      "[[0.06145236]\n",
      " [0.06173021]\n",
      " [0.06202978]\n",
      " [0.06234187]\n",
      " [0.06265172]] \n",
      "\n",
      "\n",
      "[[0.41592282]\n",
      " [0.43232816]\n",
      " [0.4480591 ]\n",
      " [0.46170294]\n",
      " [0.47194004]]\n"
     ]
    }
   ],
   "source": [
    "print(train_prediction[:5],'\\n\\n')\n",
    "print(test_prediction[:5])"
   ]
  },
  {
   "cell_type": "markdown",
   "id": "153494e5",
   "metadata": {},
   "source": [
    "* THESE PREDICTION ARE SCALED PREDICTIONS WHICH WE DID EARLIER AS LSTMS ARE SENESITIVE TO BIG VALUES"
   ]
  },
  {
   "cell_type": "code",
   "execution_count": 29,
   "id": "7f8203a6",
   "metadata": {},
   "outputs": [],
   "source": [
    "train_prediction = scaler.inverse_transform(train_prediction)\n",
    "test_prediction = scaler.inverse_transform(test_prediction)"
   ]
  },
  {
   "cell_type": "code",
   "execution_count": 30,
   "id": "86be1df9",
   "metadata": {},
   "outputs": [
    {
     "name": "stdout",
     "output_type": "stream",
     "text": [
      "[[127.892845]\n",
      " [128.0048  ]\n",
      " [128.12552 ]\n",
      " [128.25128 ]\n",
      " [128.37614 ]] \n",
      "\n",
      "\n",
      "[[270.7303 ]\n",
      " [277.34097]\n",
      " [283.6799 ]\n",
      " [289.17783]\n",
      " [293.30298]]\n"
     ]
    }
   ],
   "source": [
    "print(train_prediction[:5],'\\n\\n')\n",
    "print(test_prediction[:5])"
   ]
  },
  {
   "cell_type": "code",
   "execution_count": 31,
   "id": "c225a9c8",
   "metadata": {},
   "outputs": [],
   "source": [
    "from sklearn.metrics import mean_squared_error"
   ]
  },
  {
   "cell_type": "code",
   "execution_count": 32,
   "id": "0ff9be7a",
   "metadata": {},
   "outputs": [
    {
     "name": "stdout",
     "output_type": "stream",
     "text": [
      "MEAN SQUARED ERROR -- >  50603.518459929786\n",
      "ROOT MEAN SQUARED ERROR -- >  224.95225817921852\n"
     ]
    }
   ],
   "source": [
    "print(\"MEAN SQUARED ERROR -- > \",mean_squared_error(test_prediction,ytest))\n",
    "print(\"ROOT MEAN SQUARED ERROR -- > \",np.sqrt(mean_squared_error(test_prediction,ytest)))"
   ]
  },
  {
   "cell_type": "code",
   "execution_count": 71,
   "id": "a66c1c1a",
   "metadata": {
    "scrolled": false
   },
   "outputs": [
    {
     "data": {
      "image/png": "[encoded data removed]",
      "text/plain": [
       "<Figure size 1008x576 with 1 Axes>"
      ]
     },
     "metadata": {},
     "output_type": "display_data"
    }
   ],
   "source": [
    "### Plotting \n",
    "plt.figure(figsize=(14,8))\n",
    "sns.set_style(\"dark\")\n",
    "# shift train predictions for plotting\n",
    "look_back=100\n",
    "trainPredictPlot = np.empty_like(df1)\n",
    "trainPredictPlot[:, :] = np.nan\n",
    "trainPredictPlot[look_back:len(train_prediction)+look_back, :] = train_prediction\n",
    "## shift test predictions for plotting\n",
    "testPredictPlot = np.empty_like(df1)\n",
    "testPredictPlot[:, :] = np.nan\n",
    "testPredictPlot[len(train_prediction)+(look_back*2)+1:len(df1)-1, :] = test_prediction\n",
    "## plot baseline and predictions\n",
    "plt.plot(scaler.inverse_transform(df1),color='black')\n",
    "plt.plot(trainPredictPlot,color='blue')\n",
    "plt.plot(testPredictPlot,color='red')\n",
    "plt.show()"
   ]
  },
  {
   "cell_type": "code",
   "execution_count": null,
   "id": "a39ec089",
   "metadata": {},
   "outputs": [],
   "source": []
  },
  {
   "cell_type": "code",
   "execution_count": null,
   "id": "d364b4cf",
   "metadata": {},
   "outputs": [],
   "source": []
  }
 ],
 "metadata": {
  "kernelspec": {
   "display_name": "Python 3",
   "language": "python",
   "name": "python3"
  },
  "language_info": {
   "codemirror_mode": {
    "name": "ipython",
    "version": 3
   },
   "file_extension": ".py",
   "mimetype": "text/x-python",
   "name": "python",
   "nbconvert_exporter": "python",
   "pygments_lexer": "ipython3",
   "version": "3.8.8"
  }
 },
 "nbformat": 4,
 "nbformat_minor": 5
}
